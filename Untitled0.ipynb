{
  "nbformat": 4,
  "nbformat_minor": 0,
  "metadata": {
    "colab": {
      "name": "Untitled0.ipynb",
      "provenance": [],
      "collapsed_sections": [],
      "authorship_tag": "ABX9TyM1Q8D4nX+E4M8hZr0RhfcM",
      "include_colab_link": true
    },
    "kernelspec": {
      "name": "python3",
      "display_name": "Python 3"
    },
    "language_info": {
      "name": "python"
    }
  },
  "cells": [
    {
      "cell_type": "markdown",
      "metadata": {
        "id": "view-in-github",
        "colab_type": "text"
      },
      "source": [
        "<a href=\"https://colab.research.google.com/github/Karla-Luciano/ProbabilityStatistics-KL29/blob/main/Untitled0.ipynb\" target=\"_parent\"><img src=\"https://colab.research.google.com/assets/colab-badge.svg\" alt=\"Open In Colab\"/></a>"
      ]
    },
    {
      "cell_type": "code",
      "metadata": {
        "id": "lDC-yzsLqRQi"
      },
      "source": [
        ""
      ],
      "execution_count": null,
      "outputs": []
    },
    {
      "cell_type": "markdown",
      "metadata": {
        "id": "GYtrCfKKAIw4"
      },
      "source": [
        "![Logo](https://lh3.googleusercontent.com/proxy/-aXXlJ2B_juF8LinUo4Kx-J9ybHal86E2I9qDl88ncbUx0LtiUKYgohX-E81Txwqm0a_z4deu_YIzOXRmKf4zW4RnyA08sQcAT7An3O9SfM4_6xlyRKdikRFytDaHAmO_B4RuvSSJg)\n",
        "\n",
        "\n",
        "\n"
      ]
    },
    {
      "cell_type": "markdown",
      "metadata": {
        "id": "Si0duFCaFgbU"
      },
      "source": [
        "# HISTORY OF PYTHON\n",
        "\n",
        "\n",
        "\n",
        "\n",
        "\n",
        "\n"
      ]
    },
    {
      "cell_type": "markdown",
      "metadata": {
        "id": "9o3pllRhHzbc"
      },
      "source": [
        "Python is a widely-used, interpreted, object-oriented, and high-level programming language with dynamic semantics, used for general-purpose programming and it was mainly developed for emphasis on code readability, and its syntax allows programmers to express concepts in fewer lines of code.\n",
        "\n",
        "It was initially designed by Guido van Rossum in 1991 and developed by Python Software Foundation. The programming language which Python is said to have succeeded is ABC Programming Language, which had the interfacing with the Amoeba Operating System and had the feature of exception handling. He had already helped to create ABC earlier in his career and he had seen some issues with ABC but liked most of the features. After that what he did as really very clever. He had taken the syntax of ABC, and some of its good features. It came with a lot of complaints too, so he fixed those issues completely and had created a good scripting language which had removed all the flaws. The inspiration for the name came from BBC’s TV Show – ‘Monty Python’s Flying Circus’, as he was a big fan of the TV show and also he wanted a short, unique and slightly mysterious name for his invention and hence he named it “Python”.\n",
        "\n",
        "In 1999, Guido van Rossum defined his goals for Python:\n",
        "\n",
        "*  An easy and intuitive language just as powerful as those of the major competitors.\n",
        "*  Open source, so anyone can contribute to its development.\n",
        "*  Code that is as understandable as plain English.\n",
        "*  Suitable for everyday tasks, allowing for short development times.\n",
        "\n",
        "About 22 years later, it is clear that all these intentions have been fulfilled. This language is utilized for various purposes such as developing, scripting, generation and software testing. And due to its elegance and simplicity, top technology organizations like Dropbox, Google, Quora, Mozilla, Hewlett-Packard, Qualcomm, IBM, and Cisco have implemented Python.\n",
        "\n"
      ]
    },
    {
      "cell_type": "markdown",
      "metadata": {
        "id": "T4M4xTQ3PAO8"
      },
      "source": [
        "# PRING STRING"
      ]
    },
    {
      "cell_type": "markdown",
      "metadata": {
        "id": "GF_evxyJXSq4"
      },
      "source": [
        "The print statement in Python provides the functionality to print string and variable. The print statement takes the message to be printed in quotations. A comma is used to print the variable along with the message. The print statement evaluates each expression which is separated with a comma. If an expression is not a string, it will be converted into a string and then displayed. And the print statement is always followed by a newline unless it ends with a comma.\n",
        "\n",
        "*An example code to illustrate the concept of how to print string and variable in Python is given below:*\n"
      ]
    },
    {
      "cell_type": "code",
      "metadata": {
        "id": "crTpSwFXWVML"
      },
      "source": [
        "amount = 200\t\n",
        "print(\"The amount i have is:\"),amount\n"
      ],
      "execution_count": null,
      "outputs": []
    },
    {
      "cell_type": "markdown",
      "metadata": {
        "id": "gi3p7ruGX-kK"
      },
      "source": [
        "Another method of printing a string and variable is by using string formatting operators. In this method, the print statement uses the % operator in the message. \n",
        "The % operator defines the data type of the variable. Different letters are used to define different data types. For example, if the variable is a decimal, we will use the %d operator. If it is a string, we will use the %s operator, and so on.\n",
        "\n",
        "*Below is an example code to explain the concept of using a string formatting operator to print a string and variable:*"
      ]
    },
    {
      "cell_type": "code",
      "metadata": {
        "id": "wDpXrssWXJIl"
      },
      "source": [
        "grade = \"A\"\n",
        "marks = 90\n",
        "print(\"John doe obtained %s grade with %d marks.\" % (grade,marks))"
      ],
      "execution_count": null,
      "outputs": []
    },
    {
      "cell_type": "markdown",
      "metadata": {
        "id": "jpyJ3QevYq7Z"
      },
      "source": [
        "The concatenation operator is denoted with the + sign. The concatenation operator evaluates each expression, and if an expression is not a string, it gives an error. So we need to explicitly cast an expression that is not of the string data type. We can type cast it by using the str(var) method. The var is the variable that is not a string.\n",
        "\n",
        "*An example code is given below to elaborate on how to print a string and variable in Python.*"
      ]
    },
    {
      "cell_type": "code",
      "metadata": {
        "id": "h7FCUOxgXncj"
      },
      "source": [
        "grade = \"A\"\n",
        "marks = 90\n",
        "print(\"John doe obtained \" + grade + \" grade with \" + str(marks) + \" marks.\")"
      ],
      "execution_count": null,
      "outputs": []
    },
    {
      "cell_type": "markdown",
      "metadata": {
        "id": "IbuCD6dsZR2E"
      },
      "source": [
        "# IF-ELSE STATEMENT"
      ]
    },
    {
      "cell_type": "markdown",
      "metadata": {
        "id": "35ckdqhXit21"
      },
      "source": [
        "An else statement can be combined with an if statement. An else statement contains the block of code that executes if the conditional expression in the if statement resolves to 0 or a FALSE value. The else statement is an optional statement and there could be at most only one else statement following if.\n",
        "\n",
        "**The syntax of the if...else statement is:**\n",
        "\n",
        "*if expression:*\n",
        "\n",
        "   *Body of if*\n",
        "\n",
        "*else:*\n",
        "\n",
        "   *Body of else*\n",
        "\n",
        "**Flow diagram**"
      ]
    },
    {
      "cell_type": "markdown",
      "metadata": {
        "id": "hfWu5SF9nOhR"
      },
      "source": [
        "![Follow diagram ifelse](https://www.tutorialspoint.com/python/images/if_else_statement.jpg)\n",
        "\n",
        "\n",
        "\n",
        "**Example of if...else statement in python:**\n",
        "\n",
        "This program checks if the number is positive or negative and displays an appropriate message."
      ]
    },
    {
      "cell_type": "code",
      "metadata": {
        "id": "G1nY8RvRoBdC"
      },
      "source": [
        "num = 3\n",
        "\n",
        "# Try these two variations as well. \n",
        "# num = -5\n",
        "# num = 0\n",
        "\n",
        "if num >= 0:\n",
        "    print(\"Positive or Zero\")\n",
        "else:\n",
        "    print(\"Negative number\")\n"
      ],
      "execution_count": null,
      "outputs": []
    },
    {
      "cell_type": "markdown",
      "metadata": {
        "id": "mFne0UPuoT8L"
      },
      "source": [
        "In the above example, when num is equal to 3, the test expression is true and the body of if is executed and the body of else is skipped.\n",
        "\n",
        "If num is equal to -5, the test expression is false and the body of else is executed and the body of if is skipped.\n",
        "\n",
        "If num is equal to 0, the test expression is true and body of if is executed and body of else is skipped.\n"
      ]
    },
    {
      "cell_type": "markdown",
      "metadata": {
        "id": "lR6u2n74omB1"
      },
      "source": [
        "### ELIF STATEMENT \n",
        "\n",
        "The elif statement allows you to check multiple expressions for TRUE and execute a block of code as soon as one of the conditions evaluates to TRUE.\n",
        "\n",
        "Similar to the else, the elif statement is optional. However, unlike else, for which there can be at most one statement, there can be an arbitrary number of elif statements following an if.\n",
        "\n",
        "**The syntax of the elif statement is:**\n",
        "\n",
        "  *if expression1:*\n",
        "\n",
        "  *Body of if*\n",
        "\n",
        "  *elif expression2:*\n",
        "\n",
        "  *Body of elif*\n",
        "\n",
        "  *else:* \n",
        "\n",
        "  *Body of else*\n",
        "\n",
        "The elif is short for else if. It allows us to check for multiple expressions. If the condition for if is False, it checks the condition of the next elif block and so on. If all the conditions are False, the body of else is executed. Only one block among the several if...elif...else blocks is executed according to the condition.\n",
        "\n",
        "**Flow diagram:**"
      ]
    },
    {
      "cell_type": "markdown",
      "metadata": {
        "id": "F3vUV7_st8Jd"
      },
      "source": [
        "![Follow diagram elif](https://cdn.programiz.com/sites/tutorial2program/files/Python_if_elif_else_statement.jpg)\n",
        "\n",
        "\n",
        "\n",
        "\n",
        "**Example of elif statement in python:**\n",
        "\n",
        "In this program, we check if the number is positive or negative or zero and display an appropriate message."
      ]
    },
    {
      "cell_type": "code",
      "metadata": {
        "colab": {
          "base_uri": "https://localhost:8080/"
        },
        "id": "4hur2uL_uy6f",
        "outputId": "c14f2eaa-a793-4fe7-e5af-0f8ab42ff3a1"
      },
      "source": [
        "num = -3.4\n",
        "\n",
        "# Try these two variations as well:\n",
        "# num = 0\n",
        "# num = -4.5\n",
        "\n",
        "if num > 0:\n",
        "    print(\"Positive number\")\n",
        "elif num == 0:\n",
        "    print(\"Zero\")\n",
        "else:\n",
        "    print(\"Negative number\")"
      ],
      "execution_count": null,
      "outputs": [
        {
          "output_type": "stream",
          "name": "stdout",
          "text": [
            "Negative number\n"
          ]
        }
      ]
    },
    {
      "cell_type": "markdown",
      "metadata": {
        "id": "eIXtg0OIwzcu"
      },
      "source": [
        "When variable num is positive, Positive number is printed.\n",
        "\n",
        "If num is equal to 0, Zero is printed.\n",
        "\n",
        "If num is negative, Negative number is printed."
      ]
    },
    {
      "cell_type": "markdown",
      "metadata": {
        "id": "NKw5VQSvw-j_"
      },
      "source": [
        "# LOOPS\n",
        "\n",
        "The for loop in Python is used to iterate over a sequence (list, tuple, string) or other iterable objects. Iterating over a sequence is called traversal.\n",
        "\n",
        "\n",
        "\n",
        "### The \"for\" loop\n",
        "\n",
        "For loops iterate over a given sequence. \n",
        "\n",
        "**Syntax of for Loop**\n",
        "\n",
        "*for val in sequence:*\n",
        "\n",
        "*loop body*\n",
        "\n",
        "Here, val is the variable that takes the value of the item inside the sequence on each iteration. Loop continues until we reach the last item in the sequence. The body of for loop is separated from the rest of the code using indentation.\n",
        "\n",
        "**Flow diagram**\n",
        "\n",
        "![texto del vínculo](https://cdn.programiz.com/sites/tutorial2program/files/forLoop.jpg)\n",
        "\n",
        "\n",
        "**Example of the for loop in python:**\n",
        "\n",
        "Program to find the sum of all numbers stored in a list."
      ]
    },
    {
      "cell_type": "code",
      "metadata": {
        "id": "Ez57bA3X1Kdn"
      },
      "source": [
        "# List of numbers\n",
        "numbers = [6, 5, 3, 8, 4, 2, 5, 4, 11]\n",
        "\n",
        "# variable to store the sum\n",
        "sum = 0\n",
        "\n",
        "# iterate over the list\n",
        "for val in numbers:\n",
        "    sum = sum+val\n",
        "\n",
        "print(\"The sum is\", sum)"
      ],
      "execution_count": null,
      "outputs": []
    },
    {
      "cell_type": "markdown",
      "metadata": {
        "id": "mqwBlrhX1mbi"
      },
      "source": [
        "### Range\n",
        "For loops can iterate over a sequence of numbers using the \"range\" and \"xrange\" functions. The difference between range and xrange is that the range function returns a new list with numbers of that specified range, whereas xrange returns an iterator, which is more efficient. (Python 3 uses the range function, which acts like xrange). Note that the range function is zero based.  \n",
        "\n",
        "**Example of range:**"
      ]
    },
    {
      "cell_type": "code",
      "metadata": {
        "id": "_2Z8Y78t4Ipx"
      },
      "source": [
        "print(range(10))\n",
        "\n",
        "print(list(range(10)))\n",
        "\n",
        "print(list(range(2, 8)))\n",
        "\n",
        "print(list(range(2, 20, 3)))"
      ],
      "execution_count": null,
      "outputs": []
    },
    {
      "cell_type": "markdown",
      "metadata": {
        "id": "bUann0jr4LyI"
      },
      "source": [
        "*We can use the range() function in for loops to iterate through a sequence of numbers. It can be combined with the len() function to iterate through a sequence using indexing.*\n",
        "\n",
        "**Here is an example:**\n",
        "\n",
        "Program to iterate through a list using indexing."
      ]
    },
    {
      "cell_type": "code",
      "metadata": {
        "id": "50SRkGxZ5Bit"
      },
      "source": [
        "genre = ['k-pop', 'electronic', 'rock']\n",
        "\n",
        "# iterate over the list using index\n",
        "for i in range(len(genre)):\n",
        "    print(\"I like\", genre[i])"
      ],
      "execution_count": null,
      "outputs": []
    },
    {
      "cell_type": "markdown",
      "metadata": {
        "id": "S_FG7JUE560a"
      },
      "source": [
        "### The \"while\" loops\n",
        "While loops repeat as long as a certain boolean condition is met. \n",
        "\n",
        "**Syntax**\n",
        "\n",
        "The syntax of a while loop in Python programming language is:\n",
        "\n",
        "*while expression:*\n",
        "\n",
        "   *statement(s)*\n",
        "\n",
        "**Flow diadram**\n",
        "\n",
        "![Flow diagram](https://www.tutorialspoint.com/python/images/python_while_loop.jpg)\n",
        "\n",
        "\n",
        "**Example of the while loop in python:**"
      ]
    },
    {
      "cell_type": "code",
      "metadata": {
        "id": "aaLQgZi77jd4"
      },
      "source": [
        "# Prints out 0,1,2,3,4\n",
        "\n",
        "count = 0\n",
        "while count < 5:\n",
        "    print(count)\n",
        "    count += 1  # This is the same as count = count + 1"
      ],
      "execution_count": null,
      "outputs": []
    },
    {
      "cell_type": "markdown",
      "metadata": {
        "id": "23sNzB3F8g_a"
      },
      "source": [
        "### For loop with else\n",
        "A for loop can have an optional else block as well. The else part is executed if the items in the sequence used in for loop exhausts.\n",
        "The break keyword can be used to stop a for loop. In such cases, the else part is ignored. Hence, a for loop's else part runs if no break occurs.\n",
        "\n",
        "**Example of a for loop with else**\n",
        "\n",
        "Program to display student's marks from record."
      ]
    },
    {
      "cell_type": "code",
      "metadata": {
        "id": "MWln2U_e8-GP"
      },
      "source": [
        "student_name = 'Soyuj'\n",
        "\n",
        "marks = {'James': 90, 'Jules': 55, 'Arthur': 77}\n",
        "\n",
        "for student in marks:\n",
        "    if student == student_name:\n",
        "        print(marks[student])\n",
        "        break\n",
        "else:\n",
        "    print('No entry with that name found.')"
      ],
      "execution_count": null,
      "outputs": []
    },
    {
      "cell_type": "markdown",
      "metadata": {
        "id": "qStNYJc299nO"
      },
      "source": [
        "## References: \n",
        "\n",
        "\n",
        "\n",
        "*   History of Python. (2019). History of Python. 2021, from GeeksforGeeks Website: https://www.geeksforgeeks.org/history-of-python/ \n",
        "\n",
        "*   Python Institute. (2019). What is Python ?. 2021, from Python Institute Open Education and Development Group Website: https://pythoninstitute.org/what-is-python/ \n",
        "\n",
        "*   DelftStack. (2021). Print String and Variable in Python. 2021, from DelftStack Website: https://www.delftstack.com/howto/python/python-print-string-and-variable/\n",
        "\n",
        "\n",
        "*   Jajodia Punit. (2020). Python if...else Statement. 2021, from Programiz Website: https://www.programiz.com/python-programming/if-elif-else \n",
        "\n",
        "\n",
        "*   tutorialspoint. (n.d). Python IF...ELIF...ELSE Statements. 2021, from tutorialspoint Website: https://www.tutorialspoint.com/python/python_if_else.htm \n",
        "\n",
        "*   Jajodia Punit. (2020). Python for Loop. 2021, from Programiz Website: https://www.programiz.com/python-programming/for-loop \n",
        "\n",
        "*   tutoriaspoint. (n.d). Python while Loop Statements. 2021, from tutorialspoint Website: https://www.tutorialspoint.com/python/python_while_loop.htm \n",
        "\n",
        "*   learnpython.org. (n.d). Loops. 2021, from learnpython.org Website: https://www.learnpython.org/en/Loops \n",
        "\n",
        "\n",
        "\n",
        "\n",
        "\n",
        "\n"
      ]
    }
  ]
}